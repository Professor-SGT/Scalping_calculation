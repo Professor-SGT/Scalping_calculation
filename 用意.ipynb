{
 "cells": [
  {
   "cell_type": "code",
   "execution_count": null,
   "id": "079d37a9-1543-4473-b719-b4ad93716146",
   "metadata": {},
   "outputs": [],
   "source": [
    "from quantboxapi import QuantBoxAPI, Code\n",
    "\n",
    "# Initialize the API\n",
    "quantbox = QuantBoxAPI(host='server-jinbocho',)"
   ]
  },
  {
   "cell_type": "code",
   "execution_count": null,
   "id": "e7b1c3dc-251d-4c6d-bc2f-675feda25608",
   "metadata": {},
   "outputs": [],
   "source": [
    "import sys\n",
    "print(sys.executable)"
   ]
  },
  {
   "cell_type": "code",
   "execution_count": null,
   "id": "15c3f7e4-5831-4c2b-aff3-52f93f48c96f",
   "metadata": {},
   "outputs": [],
   "source": [
    "import pandas as pd\n",
    "tickers = pd.read_csv('Code/TOPIXcodelist.csv', index_col=0)['Code']\n",
    "for i, code in enumerate(tickers[:]):\n",
    "    print(i, code)"
   ]
  },
  {
   "cell_type": "code",
   "execution_count": null,
   "id": "12248971-793d-4c0f-87e3-969ae10532e7",
   "metadata": {
    "scrolled": true
   },
   "outputs": [],
   "source": [
    "import pandas as pd\n",
    "from quantboxapi import QuantBoxAPI, Code\n",
    "\n",
    "# Initialize the API\n",
    "\n",
    "def Preprocessing(code, quantbox):\n",
    "    \n",
    "    code = str(code)\n",
    "    chart = quantbox.chart(Code.stock(code+'.TSE'), frequency='MINUTES', interval=1, start_date='2025-05-01', timeout=10)\n",
    "    chart = chart.set_index('time')\n",
    "    display(chart.head(1))\n",
    "    chart=chart.rename(columns={'last_price':'Close', 'open_price':'Open', 'cumulative_volume':'Volume' })\n",
    "    chart = chart.rename_axis('Date')\n",
    "    return chart[['Close', 'Open', 'Volume']]\n",
    "tickers = pd.read_csv('Code/TOPIXcodelist.csv', index_col=0)['Code']\n",
    "import time\n",
    "quantbox = QuantBoxAPI(host='server-jinbocho',)\n",
    "errorlist = []\n",
    "for i, code in enumerate(tickers[160:]):\n",
    "    time.sleep(0.4)\n",
    "    print(code)\n",
    "    try:\n",
    "        Preprocessing(tickers[i], quantbox).to_csv('Price/temp2/{}.csv'.format(code))\n",
    "    except Exception as e:\n",
    "        print(e)\n",
    "        errorlist.append(code)\n",
    "        continue\n",
    "    else:\n",
    "        time.sleep(1)"
   ]
  },
  {
   "cell_type": "code",
   "execution_count": null,
   "id": "2d0fd89f-bc67-4786-86d6-c3f286c26acd",
   "metadata": {
    "scrolled": true
   },
   "outputs": [],
   "source": [
    "import yfinance as yf\n",
    "errorlist2 = []\n",
    "for i, code in enumerate(errorlist):\n",
    "    #time.sleep(0.1)\n",
    "    print(code)\n",
    "    try:\n",
    "        yf.download(str(code)+'.T', start='2025-05-01', end='2025-06-30', interval='1h')    \n",
    "    except Exception as e:\n",
    "        print(e)\n",
    "        errorlist2.append(code)\n",
    "        continue\n",
    "    else:\n",
    "        time.sleep(1.5)"
   ]
  },
  {
   "cell_type": "code",
   "execution_count": null,
   "id": "aa964131-313f-41ff-a383-58a9df05c857",
   "metadata": {},
   "outputs": [],
   "source": [
    "import talib\n",
    "errorlist = []\n",
    "for i, code in enumerate(tickers):\n",
    "    time.sleep(0.3)\n",
    "    try:\n",
    "        temp = pd.read_csv('Price/temp2/{}.csv'.format(code), index_col=0, parse_dates=True)\n",
    "        display(temp)\n",
    "    except Exception as e:\n",
    "        continue\n",
    "    intervals = temp.index.to_series().diff().dropna()\n",
    "    most_common_interval = intervals.mode()[0]\n",
    "    try:\n",
    "        if (most_common_interval.total_seconds() / 60) > 1:\n",
    "            errorlist.append(code)\n",
    "    except:\n",
    "        continue"
   ]
  },
  {
   "cell_type": "code",
   "execution_count": null,
   "id": "3dd9d28b-9a4d-46a8-b13a-a453601e0ec9",
   "metadata": {},
   "outputs": [],
   "source": [
    "import talib\n",
    "errorlist = []\n",
    "for i, code in enumerate(tickers):\n",
    "    time.sleep(0.5)\n",
    "    print(code)\n",
    "    try:\n",
    "        temp = Preprocessing(tickers[i], quantbox).to_csv('Price/temp2/{}.csv'.format(code))\n",
    "        print(code)\n",
    "    except Exception as e:\n",
    "        print(e)\n",
    "        errorlist.append(code)\n",
    "        temp = yf.download(str(code)+'.T', start='2025-05-01', end='2025-06-30', interval='2m')\n",
    "        try:\n",
    "            temp.columns = ['Close', 'High', 'Low', 'Open', 'Volume']\n",
    "        except:\n",
    "            temp.columns = ['Adj Close','Close', 'High', 'Low', 'Open', 'Volume']\n",
    "    temp['rsi9'] = talib.RSI(temp['Close'], timeperiod=9)\n",
    "    \n",
    "    # temp[['Close', 'Open', 'rsi9', 'Volume']].to_csv('Price/temp2/{}.csv'.format(code))"
   ]
  },
  {
   "cell_type": "code",
   "execution_count": null,
   "id": "9cfa90b4-c320-4b86-b2a2-e29c77a25f0b",
   "metadata": {},
   "outputs": [],
   "source": [
    "chart = quantbox.chart(Code.stock(tickers[0]), frequency='MINUTES', interval=1, start_date='2025-05-01')\n",
    "chart = chart.set_index('time')\n",
    "chart.rename(columns={'last_price':'Close', 'open_price':'Open', 'cumulative_volume':'Volume' })\n",
    "chart = chart.rename_axis('Date')"
   ]
  },
  {
   "cell_type": "code",
   "execution_count": null,
   "id": "68aa14c2-b86d-4033-8b9e-9fe8eafcdcbf",
   "metadata": {},
   "outputs": [],
   "source": [
    "chart"
   ]
  },
  {
   "cell_type": "code",
   "execution_count": null,
   "id": "4dc353b2-db35-4906-b92e-c701a476f0b6",
   "metadata": {},
   "outputs": [],
   "source": []
  }
 ],
 "metadata": {
  "kernelspec": {
   "display_name": "Python (rsi2)",
   "language": "python",
   "name": "rsi2"
  },
  "language_info": {
   "codemirror_mode": {
    "name": "ipython",
    "version": 3
   },
   "file_extension": ".py",
   "mimetype": "text/x-python",
   "name": "python",
   "nbconvert_exporter": "python",
   "pygments_lexer": "ipython3",
   "version": "3.10.17"
  }
 },
 "nbformat": 4,
 "nbformat_minor": 5
}
